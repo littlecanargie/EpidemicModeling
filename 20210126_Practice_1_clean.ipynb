{
  "nbformat": 4,
  "nbformat_minor": 0,
  "metadata": {
    "colab": {
      "name": "20210126 Practice 1 - clean",
      "provenance": [],
      "collapsed_sections": [],
      "include_colab_link": true
    },
    "kernelspec": {
      "name": "ir",
      "display_name": "R"
    }
  },
  "cells": [
    {
      "cell_type": "markdown",
      "metadata": {
        "id": "view-in-github",
        "colab_type": "text"
      },
      "source": [
        "<a href=\"https://colab.research.google.com/github/littlecanargie/EpidemicModeling/blob/main/20210126_Practice_1_clean.ipynb\" target=\"_parent\"><img src=\"https://colab.research.google.com/assets/colab-badge.svg\" alt=\"Open In Colab\"/></a>"
      ]
    },
    {
      "cell_type": "markdown",
      "metadata": {
        "id": "emEvNvKbikom"
      },
      "source": [
        "# Machinery (takes some time)\r\n",
        "\r\n",
        "## Base packages"
      ]
    },
    {
      "cell_type": "code",
      "metadata": {
        "id": "HJCzDbtcFuu4",
        "colab": {
          "base_uri": "https://localhost:8080/"
        },
        "outputId": "2a2a4fd6-73b4-42d7-f6ac-0df219dc4df9"
      },
      "source": [
        "libraries = c(\"dplyr\", \"magrittr\", \"tidyr\", \"ggplot2\", \"readxl\")  \n",
        "for(x in libraries) { library(x, character.only=TRUE, warn.conflicts=FALSE, quietly=TRUE) }\n",
        "\n",
        "install.packages(\"zoo\"); library(\"zoo\")\n",
        "\n",
        "R.Version()$version.string"
      ],
      "execution_count": null,
      "outputs": [
        {
          "output_type": "stream",
          "text": [
            "Installing package into ‘/usr/local/lib/R/site-library’\n",
            "(as ‘lib’ is unspecified)\n",
            "\n"
          ],
          "name": "stderr"
        }
      ]
    },
    {
      "cell_type": "code",
      "metadata": {
        "id": "NiPznuvDloSU"
      },
      "source": [
        "# Data hub for COVID19 datasets\n",
        "## install the package\n",
        "install.packages(\"COVID19\")\n",
        "## load the package\n",
        "library(\"COVID19\")"
      ],
      "execution_count": null,
      "outputs": []
    },
    {
      "cell_type": "markdown",
      "metadata": {
        "id": "tdjGqyYQAjI-"
      },
      "source": [
        "## Stan"
      ]
    },
    {
      "cell_type": "code",
      "metadata": {
        "id": "mZTdecPG17UU"
      },
      "source": [
        "# Step 1: install CmdStanR and only the packages that it directly depends on.\n",
        "install.packages('versions')\n",
        "library(versions)\n",
        "# Install package CmdStanR from GitHub\n",
        "library(devtools)\n",
        "if(!require(cmdstanr)){\n",
        "  devtools::install_github(\"stan-dev/cmdstanr\", dependencies=c(\"Depends\", \"Imports\"))\n",
        "  library(cmdstanr)\n",
        "}"
      ],
      "execution_count": null,
      "outputs": []
    },
    {
      "cell_type": "code",
      "metadata": {
        "id": "OmGWmvc72Jry"
      },
      "source": [
        "# Step 2: download and untar the CmdStan binary for Google Colab instances\n",
        "## Install CmdStan binaries\n",
        "if (!file.exists(\"cmdstan-2.23.0.tgz\")) {\n",
        "  system(\"wget https://github.com/stan-dev/cmdstan/releases/download/v2.23.0/colab-cmdstan-2.23.0.tar.gz\", intern=T)\n",
        "  system(\"tar zxf colab-cmdstan-2.23.0.tar.gz\", intern=T)\n",
        "}\n",
        "list.files(\"cmdstan-2.23.0\")"
      ],
      "execution_count": null,
      "outputs": []
    },
    {
      "cell_type": "code",
      "metadata": {
        "id": "9_rxsoyp2u5d"
      },
      "source": [
        "# Step 3: Register the CmdStan install location\n",
        "## Set cmdstan_path to CmdStan installation\n",
        "set_cmdstan_path(\"cmdstan-2.23.0\")\n",
        "## helper function\n",
        "print_file <- function(file, nlines=-1L) {\n",
        "  cat(paste(readLines(file, n=nlines), \"\\n\", sep=\"\"), sep=\"\")\n",
        "}"
      ],
      "execution_count": null,
      "outputs": []
    },
    {
      "cell_type": "code",
      "metadata": {
        "id": "rzFfLmQBlXNR"
      },
      "source": [
        "# will be used for postprocessing\r\n",
        "if (!require(\"devtools\")) {\r\n",
        "  install.packages(\"devtools\")\r\n",
        "}\r\n",
        "devtools::install_github(\"stan-dev/bayesplot\")\r\n",
        "\r\n",
        "library(posterior)\r\n",
        "library(bayesplot)"
      ],
      "execution_count": null,
      "outputs": []
    },
    {
      "cell_type": "markdown",
      "metadata": {
        "id": "X0FC6XPqBPb-"
      },
      "source": [
        "## Templates for Stan which will be used later"
      ]
    },
    {
      "cell_type": "code",
      "metadata": {
        "id": "qk7twhLtBkUJ"
      },
      "source": [
        "# Stan program\n",
        "stan_code = \"functions {\n",
        "    /* calculating the convolutions */\n",
        "    // X: first function, Yrev: reversed version of the second function\n",
        "    // K: length of X and Yrev\n",
        "    // the result is the vector of length K-1, because the first element equal zero is omitted\n",
        "    vector convolution(vector X, vector Yrev, int K) {\n",
        "        vector[K-1] res;\n",
        "        res[1] = X[1]*Yrev[K];\n",
        "        for (k in 2:K-1) \n",
        "            res[k] = dot_product(head(X, k), tail(Yrev, k)); // by definition of the convolution\n",
        "\n",
        "        return res;        \n",
        "    }\n",
        "}\n",
        "\n",
        "data {\n",
        "\n",
        "}\n",
        "\n",
        "parameters {\n",
        "}\n",
        "\n",
        "model {\n",
        "}\"\n",
        "stan_file = write_stan_file(stan_code)\n",
        "\n",
        "# data file\n",
        "data_list = list(param1_SI = 2.305, param2_SI = 5.452)\n",
        "data_file = tempfile(fileext = \".json\")\n",
        "write_stan_json(data_list, data_file)\n",
        "\n",
        "# # Compile example model\n",
        "# mod = cmdstan_model(stan_file)\n",
        "\n",
        "# # Condition on data\n",
        "# fit <- mod$sample(data = data_file, iter_sampling=1000, iter_warmup=500, chains=3) #, seed=123\n",
        "\n",
        "# # Print a summary of the posterior sample\n",
        "# options(digits = 2)\n",
        "# fit$summary()\n",
        "\n",
        "# output = fit$summary(c(\"Rt\"), ~quantile(.x, probs = c(0.5, 0.025, 0.975))) %>% as.data.frame\n",
        "# names(output) = c(\"variable\", \"median\", \"lower\", \"upper\")\n",
        "# output %>% head\n",
        "\n",
        "# out = stringr::str_match_all(output$variable, \"[\\\\d+(.*)]\")\n",
        "# output$index = sapply(out, function(x) paste(x[,1],collapse=\"\"))\n",
        "# output %<>% mutate(variable = stringr::str_extract(variable, \"^[^\\\\[]+\")) %>% select(variable, index, everything())\n",
        "# output %>% head"
      ],
      "execution_count": null,
      "outputs": []
    },
    {
      "cell_type": "code",
      "metadata": {
        "id": "k2ELZQ92Busb"
      },
      "source": [
        ""
      ],
      "execution_count": null,
      "outputs": []
    }
  ]
}