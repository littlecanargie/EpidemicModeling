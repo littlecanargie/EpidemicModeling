{
  "nbformat": 4,
  "nbformat_minor": 0,
  "metadata": {
    "colab": {
      "name": "20210127 Practice 2 - clean",
      "provenance": [],
      "collapsed_sections": [],
      "include_colab_link": true
    },
    "kernelspec": {
      "name": "ir",
      "display_name": "R"
    }
  },
  "cells": [
    {
      "cell_type": "markdown",
      "metadata": {
        "id": "view-in-github",
        "colab_type": "text"
      },
      "source": [
        "<a href=\"https://colab.research.google.com/github/littlecanargie/EpidemicModeling/blob/main/20210127_Practice_2_clean.ipynb\" target=\"_parent\"><img src=\"https://colab.research.google.com/assets/colab-badge.svg\" alt=\"Open In Colab\"/></a>"
      ]
    },
    {
      "cell_type": "markdown",
      "metadata": {
        "id": "emEvNvKbikom"
      },
      "source": [
        "# Machinery (takes some time)\r\n",
        "\r\n",
        "## Base packages"
      ]
    },
    {
      "cell_type": "code",
      "metadata": {
        "id": "HJCzDbtcFuu4",
        "colab": {
          "base_uri": "https://localhost:8080/",
          "height": 238
        },
        "outputId": "bcce23cb-7eb5-4743-e1a5-4c765aace4ad"
      },
      "source": [
        "libraries = c(\"dplyr\", \"magrittr\", \"tidyr\", \"ggplot2\", \"readxl\")  \n",
        "for(x in libraries) { library(x, character.only=TRUE, warn.conflicts=FALSE, quietly=TRUE) }\n",
        "\n",
        "install.packages(\"zoo\"); library(\"zoo\")\n",
        "\n",
        "R.Version()$version.string"
      ],
      "execution_count": 1,
      "outputs": [
        {
          "output_type": "stream",
          "text": [
            "Installing package into ‘/usr/local/lib/R/site-library’\n",
            "(as ‘lib’ is unspecified)\n",
            "\n",
            "\n",
            "Attaching package: ‘zoo’\n",
            "\n",
            "\n",
            "The following objects are masked from ‘package:base’:\n",
            "\n",
            "    as.Date, as.Date.numeric\n",
            "\n",
            "\n"
          ],
          "name": "stderr"
        },
        {
          "output_type": "display_data",
          "data": {
            "text/plain": [
              "[1] \"R version 4.0.3 (2020-10-10)\""
            ],
            "text/latex": "'R version 4.0.3 (2020-10-10)'",
            "text/markdown": "'R version 4.0.3 (2020-10-10)'",
            "text/html": [
              "'R version 4.0.3 (2020-10-10)'"
            ]
          },
          "metadata": {
            "tags": []
          }
        }
      ]
    },
    {
      "cell_type": "code",
      "metadata": {
        "id": "NiPznuvDloSU",
        "colab": {
          "base_uri": "https://localhost:8080/",
          "height": 1000
        },
        "outputId": "a3d3b4d8-9061-491a-87f0-5a7f354e5483"
      },
      "source": [
        "# Step 1: install CmdStanR and only the packages that it directly depends on.\n",
        "install.packages('versions')\n",
        "library(versions)\n",
        "# Install package CmdStanR from GitHub\n",
        "library(devtools)\n",
        "if(!require(cmdstanr)){\n",
        "  devtools::install_github(\"stan-dev/cmdstanr\", dependencies=c(\"Depends\", \"Imports\"))\n",
        "  library(cmdstanr)\n",
        "}\n",
        "# Step 2: download and untar the CmdStan binary for Google Colab instances\n",
        "## Install CmdStan binaries\n",
        "if (!file.exists(\"cmdstan-2.23.0.tgz\")) {\n",
        "  system(\"wget https://github.com/stan-dev/cmdstan/releases/download/v2.23.0/colab-cmdstan-2.23.0.tar.gz\", intern=T)\n",
        "  system(\"tar zxf colab-cmdstan-2.23.0.tar.gz\", intern=T)\n",
        "}\n",
        "list.files(\"cmdstan-2.23.0\")\n",
        "# Step 3: Register the CmdStan install location\n",
        "## Set cmdstan_path to CmdStan installation\n",
        "set_cmdstan_path(\"cmdstan-2.23.0\")\n",
        "print_file <- function(file, nlines=-1L) {\n",
        "  cat(paste(readLines(file, n=nlines), \"\\n\", sep=\"\"), sep=\"\")\n",
        "}\n",
        "# will be used for postprocessing\n",
        "if (!require(\"devtools\")) {\n",
        "  install.packages(\"devtools\")\n",
        "}\n",
        "devtools::install_github(\"stan-dev/bayesplot\")\n",
        "\n",
        "library(posterior)\n",
        "library(bayesplot)"
      ],
      "execution_count": 2,
      "outputs": [
        {
          "output_type": "stream",
          "text": [
            "Installing package into ‘/usr/local/lib/R/site-library’\n",
            "(as ‘lib’ is unspecified)\n",
            "\n",
            "Loading required package: usethis\n",
            "\n",
            "Loading required package: cmdstanr\n",
            "\n",
            "Warning message in library(package, lib.loc = lib.loc, character.only = TRUE, logical.return = TRUE, :\n",
            "“there is no package called ‘cmdstanr’”\n",
            "Downloading GitHub repo stan-dev/cmdstanr@HEAD\n",
            "\n"
          ],
          "name": "stderr"
        },
        {
          "output_type": "stream",
          "text": [
            "posterior  (NA -> 2c0a2f111...) [GitHub]\n",
            "checkmate  (NA -> 2.0.0       ) [CRAN]\n",
            "abind      (NA -> 1.4-5       ) [CRAN]\n",
            "data.table (NA -> 1.13.6      ) [CRAN]\n"
          ],
          "name": "stdout"
        },
        {
          "output_type": "stream",
          "text": [
            "Downloading GitHub repo stan-dev/posterior@HEAD\n",
            "\n"
          ],
          "name": "stderr"
        },
        {
          "output_type": "stream",
          "text": [
            "checkmate (NA -> 2.0.0) [CRAN]\n",
            "abind     (NA -> 1.4-5) [CRAN]\n"
          ],
          "name": "stdout"
        },
        {
          "output_type": "stream",
          "text": [
            "Installing 2 packages: checkmate, abind\n",
            "\n",
            "Installing packages into ‘/usr/local/lib/R/site-library’\n",
            "(as ‘lib’ is unspecified)\n",
            "\n"
          ],
          "name": "stderr"
        },
        {
          "output_type": "stream",
          "text": [
            "\u001b[32m✔\u001b[39m  \u001b[90mchecking for file ‘/tmp/RtmpwZJ3iy/remotes3e448442c/stan-dev-posterior-2c0a2f1/DESCRIPTION’\u001b[39m\u001b[36m\u001b[39m\n",
            "\u001b[90m─\u001b[39m\u001b[90m  \u001b[39m\u001b[90mpreparing ‘posterior’:\u001b[39m\u001b[36m\u001b[39m\n",
            "\u001b[32m✔\u001b[39m  \u001b[90mchecking DESCRIPTION meta-information\u001b[39m\u001b[36m\u001b[39m\n",
            "\u001b[90m─\u001b[39m\u001b[90m  \u001b[39m\u001b[90mchecking for LF line-endings in source and make files and shell scripts\u001b[39m\u001b[36m\u001b[39m\n",
            "\u001b[90m─\u001b[39m\u001b[90m  \u001b[39m\u001b[90mchecking for empty or unneeded directories\u001b[39m\u001b[36m\u001b[39m\n",
            "\u001b[90m─\u001b[39m\u001b[90m  \u001b[39m\u001b[90mbuilding ‘posterior_0.1.3.tar.gz’\u001b[39m\u001b[36m\u001b[39m\n",
            "   \n"
          ],
          "name": "stdout"
        },
        {
          "output_type": "stream",
          "text": [
            "Installing package into ‘/usr/local/lib/R/site-library’\n",
            "(as ‘lib’ is unspecified)\n",
            "\n",
            "Installing 3 packages: checkmate, abind, data.table\n",
            "\n",
            "Installing packages into ‘/usr/local/lib/R/site-library’\n",
            "(as ‘lib’ is unspecified)\n",
            "\n",
            "Skipping install of 'posterior' from a github remote, the SHA1 (2c0a2f11) has not changed since last install.\n",
            "  Use `force = TRUE` to force installation\n",
            "\n"
          ],
          "name": "stderr"
        },
        {
          "output_type": "stream",
          "text": [
            "\u001b[32m✔\u001b[39m  \u001b[90mchecking for file ‘/tmp/RtmpwZJ3iy/remotes3e21fd5146/stan-dev-cmdstanr-3a26519/DESCRIPTION’\u001b[39m\u001b[36m\u001b[39m\n",
            "\u001b[90m─\u001b[39m\u001b[90m  \u001b[39m\u001b[90mpreparing ‘cmdstanr’:\u001b[39m\u001b[36m\u001b[39m\n",
            "\u001b[32m✔\u001b[39m  \u001b[90mchecking DESCRIPTION meta-information\u001b[39m\u001b[36m\u001b[39m\n",
            "\u001b[90m─\u001b[39m\u001b[90m  \u001b[39m\u001b[90mchecking for LF line-endings in source and make files and shell scripts\u001b[39m\u001b[36m\u001b[39m\n",
            "\u001b[90m─\u001b[39m\u001b[90m  \u001b[39m\u001b[90mchecking for empty or unneeded directories\u001b[39m\u001b[36m\u001b[39m\n",
            "\u001b[90m─\u001b[39m\u001b[90m  \u001b[39m\u001b[90mbuilding ‘cmdstanr_0.3.0.9000.tar.gz’\u001b[39m\u001b[36m\u001b[39m\n",
            "   \n"
          ],
          "name": "stdout"
        },
        {
          "output_type": "stream",
          "text": [
            "Installing package into ‘/usr/local/lib/R/site-library’\n",
            "(as ‘lib’ is unspecified)\n",
            "\n",
            "This is cmdstanr version 0.3.0.9000\n",
            "\n",
            "- Online documentation and vignettes at mc-stan.org/cmdstanr\n",
            "\n",
            "- Use set_cmdstan_path() to set the path to CmdStan\n",
            "\n",
            "- Use install_cmdstan() to install CmdStan\n",
            "\n"
          ],
          "name": "stderr"
        },
        {
          "output_type": "display_data",
          "data": {
            "text/plain": [
              "character(0)"
            ],
            "text/latex": "",
            "text/markdown": "",
            "text/html": [
              ""
            ]
          },
          "metadata": {
            "tags": []
          }
        },
        {
          "output_type": "display_data",
          "data": {
            "text/plain": [
              " [1] \"bin\"                \"examples\"           \"install-tbb.bat\"   \n",
              " [4] \"Jenkinsfile\"        \"lib\"                \"LICENSE\"           \n",
              " [7] \"make\"               \"makefile\"           \"README.md\"         \n",
              "[10] \"runCmdStanTests.py\" \"src\"                \"stan\"              \n",
              "[13] \"test-all.sh\"       "
            ],
            "text/latex": "\\begin{enumerate*}\n\\item 'bin'\n\\item 'examples'\n\\item 'install-tbb.bat'\n\\item 'Jenkinsfile'\n\\item 'lib'\n\\item 'LICENSE'\n\\item 'make'\n\\item 'makefile'\n\\item 'README.md'\n\\item 'runCmdStanTests.py'\n\\item 'src'\n\\item 'stan'\n\\item 'test-all.sh'\n\\end{enumerate*}\n",
            "text/markdown": "1. 'bin'\n2. 'examples'\n3. 'install-tbb.bat'\n4. 'Jenkinsfile'\n5. 'lib'\n6. 'LICENSE'\n7. 'make'\n8. 'makefile'\n9. 'README.md'\n10. 'runCmdStanTests.py'\n11. 'src'\n12. 'stan'\n13. 'test-all.sh'\n\n\n",
            "text/html": [
              "<style>\n",
              ".list-inline {list-style: none; margin:0; padding: 0}\n",
              ".list-inline>li {display: inline-block}\n",
              ".list-inline>li:not(:last-child)::after {content: \"\\00b7\"; padding: 0 .5ex}\n",
              "</style>\n",
              "<ol class=list-inline><li>'bin'</li><li>'examples'</li><li>'install-tbb.bat'</li><li>'Jenkinsfile'</li><li>'lib'</li><li>'LICENSE'</li><li>'make'</li><li>'makefile'</li><li>'README.md'</li><li>'runCmdStanTests.py'</li><li>'src'</li><li>'stan'</li><li>'test-all.sh'</li></ol>\n"
            ]
          },
          "metadata": {
            "tags": []
          }
        },
        {
          "output_type": "stream",
          "text": [
            "CmdStan path set to: /content/cmdstan-2.23.0\n",
            "\n",
            "Downloading GitHub repo stan-dev/bayesplot@HEAD\n",
            "\n"
          ],
          "name": "stderr"
        },
        {
          "output_type": "stream",
          "text": [
            "brio     (1.1.0 -> 1.1.1) [CRAN]\n",
            "withr    (2.4.0 -> 2.4.1) [CRAN]\n",
            "plyr     (NA    -> 1.8.6) [CRAN]\n",
            "reshape2 (NA    -> 1.4.4) [CRAN]\n",
            "ggridges (NA    -> 0.5.3) [CRAN]\n"
          ],
          "name": "stdout"
        },
        {
          "output_type": "stream",
          "text": [
            "Installing 5 packages: brio, withr, plyr, reshape2, ggridges\n",
            "\n",
            "Installing packages into ‘/usr/local/lib/R/site-library’\n",
            "(as ‘lib’ is unspecified)\n",
            "\n"
          ],
          "name": "stderr"
        },
        {
          "output_type": "stream",
          "text": [
            "\u001b[32m✔\u001b[39m  \u001b[90mchecking for file ‘/tmp/RtmpwZJ3iy/remotes3e7f46d3f6/stan-dev-bayesplot-665c687/DESCRIPTION’\u001b[39m\u001b[36m\u001b[39m\n",
            "\u001b[90m─\u001b[39m\u001b[90m  \u001b[39m\u001b[90mpreparing ‘bayesplot’:\u001b[39m\u001b[36m\u001b[39m\n",
            "\u001b[32m✔\u001b[39m  \u001b[90mchecking DESCRIPTION meta-information\u001b[39m\u001b[36m\u001b[39m\n",
            "\u001b[90m─\u001b[39m\u001b[90m  \u001b[39m\u001b[90mchecking for LF line-endings in source and make files and shell scripts\u001b[39m\u001b[36m\u001b[39m\n",
            "\u001b[90m─\u001b[39m\u001b[90m  \u001b[39m\u001b[90mchecking for empty or unneeded directories\u001b[39m\u001b[36m\u001b[39m\n",
            "\u001b[90m─\u001b[39m\u001b[90m  \u001b[39m\u001b[90mbuilding ‘bayesplot_1.8.0.9000.tar.gz’\u001b[39m\u001b[36m\u001b[39m\n",
            "   \n"
          ],
          "name": "stdout"
        },
        {
          "output_type": "stream",
          "text": [
            "Installing package into ‘/usr/local/lib/R/site-library’\n",
            "(as ‘lib’ is unspecified)\n",
            "\n",
            "This is posterior version 0.1.3\n",
            "\n",
            "This is bayesplot version 1.8.0.9000\n",
            "\n",
            "- Online documentation and vignettes at mc-stan.org/bayesplot\n",
            "\n",
            "- bayesplot theme set to bayesplot::theme_default()\n",
            "\n",
            "   * Does _not_ affect other ggplot2 plots\n",
            "\n",
            "   * See ?bayesplot_theme_set for details on theme setting\n",
            "\n",
            "\n",
            "Attaching package: ‘bayesplot’\n",
            "\n",
            "\n",
            "The following object is masked from ‘package:posterior’:\n",
            "\n",
            "    rhat\n",
            "\n",
            "\n"
          ],
          "name": "stderr"
        }
      ]
    },
    {
      "cell_type": "markdown",
      "metadata": {
        "id": "orbnL3WIOjLB"
      },
      "source": [
        "# Loading the data"
      ]
    },
    {
      "cell_type": "code",
      "metadata": {
        "colab": {
          "base_uri": "https://localhost:8080/",
          "height": 34
        },
        "id": "hiIPkaf8r8DI",
        "outputId": "0396500f-18cc-40f1-937a-38b5011f48e4"
      },
      "source": [
        "# loading datafile from GoogleDrive\n",
        "## https://drive.google.com/file/d/12CuPCfO6N7ExvONty_8vUovjVqoB4orq/view?usp=sharing\n",
        "## original source https://www.mdpi.com/1660-4601/17/20/7474/htm\n",
        "system(\"gdown --id 12CuPCfO6N7ExvONty_8vUovjVqoB4orq\")\n",
        "list.files()"
      ],
      "execution_count": 3,
      "outputs": [
        {
          "output_type": "display_data",
          "data": {
            "text/plain": [
              "[1] \"cmdstan-2.23.0\"                \"colab-cmdstan-2.23.0.tar.gz\"  \n",
              "[3] \"sample_data\"                   \"Seoul_COVID19_DATA_import.csv\""
            ],
            "text/latex": "\\begin{enumerate*}\n\\item 'cmdstan-2.23.0'\n\\item 'colab-cmdstan-2.23.0.tar.gz'\n\\item 'sample\\_data'\n\\item 'Seoul\\_COVID19\\_DATA\\_import.csv'\n\\end{enumerate*}\n",
            "text/markdown": "1. 'cmdstan-2.23.0'\n2. 'colab-cmdstan-2.23.0.tar.gz'\n3. 'sample_data'\n4. 'Seoul_COVID19_DATA_import.csv'\n\n\n",
            "text/html": [
              "<style>\n",
              ".list-inline {list-style: none; margin:0; padding: 0}\n",
              ".list-inline>li {display: inline-block}\n",
              ".list-inline>li:not(:last-child)::after {content: \"\\00b7\"; padding: 0 .5ex}\n",
              "</style>\n",
              "<ol class=list-inline><li>'cmdstan-2.23.0'</li><li>'colab-cmdstan-2.23.0.tar.gz'</li><li>'sample_data'</li><li>'Seoul_COVID19_DATA_import.csv'</li></ol>\n"
            ]
          },
          "metadata": {
            "tags": []
          }
        }
      ]
    },
    {
      "cell_type": "code",
      "metadata": {
        "id": "k2ELZQ92Busb",
        "colab": {
          "base_uri": "https://localhost:8080/",
          "height": 204
        },
        "outputId": "ad9f91e1-3d77-480d-9427-91617ecb8e88"
      },
      "source": [
        "df_ = read.csv(\"Seoul_COVID19_DATA_import.csv\")\r\n",
        "df_ %>% head"
      ],
      "execution_count": 4,
      "outputs": [
        {
          "output_type": "display_data",
          "data": {
            "text/plain": [
              "  number symptom_day confirm_day infection_path\n",
              "1 1      20/1/10     20/1/24     1             \n",
              "2 2      20/1/26     20/1/30     1             \n",
              "3 3      20/1/26     20/1/30     2             \n",
              "4 4      20/1/26     20/1/30     1             \n",
              "5 5      20/1/30     20/1/31     2             \n",
              "6 6      20/1/29     20/1/31     2             "
            ],
            "text/latex": "A data.frame: 6 × 4\n\\begin{tabular}{r|llll}\n  & number & symptom\\_day & confirm\\_day & infection\\_path\\\\\n  & <int> & <chr> & <chr> & <int>\\\\\n\\hline\n\t1 & 1 & 20/1/10 & 20/1/24 & 1\\\\\n\t2 & 2 & 20/1/26 & 20/1/30 & 1\\\\\n\t3 & 3 & 20/1/26 & 20/1/30 & 2\\\\\n\t4 & 4 & 20/1/26 & 20/1/30 & 1\\\\\n\t5 & 5 & 20/1/30 & 20/1/31 & 2\\\\\n\t6 & 6 & 20/1/29 & 20/1/31 & 2\\\\\n\\end{tabular}\n",
            "text/markdown": "\nA data.frame: 6 × 4\n\n| <!--/--> | number &lt;int&gt; | symptom_day &lt;chr&gt; | confirm_day &lt;chr&gt; | infection_path &lt;int&gt; |\n|---|---|---|---|---|\n| 1 | 1 | 20/1/10 | 20/1/24 | 1 |\n| 2 | 2 | 20/1/26 | 20/1/30 | 1 |\n| 3 | 3 | 20/1/26 | 20/1/30 | 2 |\n| 4 | 4 | 20/1/26 | 20/1/30 | 1 |\n| 5 | 5 | 20/1/30 | 20/1/31 | 2 |\n| 6 | 6 | 20/1/29 | 20/1/31 | 2 |\n\n",
            "text/html": [
              "<table>\n",
              "<caption>A data.frame: 6 × 4</caption>\n",
              "<thead>\n",
              "\t<tr><th></th><th scope=col>number</th><th scope=col>symptom_day</th><th scope=col>confirm_day</th><th scope=col>infection_path</th></tr>\n",
              "\t<tr><th></th><th scope=col>&lt;int&gt;</th><th scope=col>&lt;chr&gt;</th><th scope=col>&lt;chr&gt;</th><th scope=col>&lt;int&gt;</th></tr>\n",
              "</thead>\n",
              "<tbody>\n",
              "\t<tr><th scope=row>1</th><td>1</td><td>20/1/10</td><td>20/1/24</td><td>1</td></tr>\n",
              "\t<tr><th scope=row>2</th><td>2</td><td>20/1/26</td><td>20/1/30</td><td>1</td></tr>\n",
              "\t<tr><th scope=row>3</th><td>3</td><td>20/1/26</td><td>20/1/30</td><td>2</td></tr>\n",
              "\t<tr><th scope=row>4</th><td>4</td><td>20/1/26</td><td>20/1/30</td><td>1</td></tr>\n",
              "\t<tr><th scope=row>5</th><td>5</td><td>20/1/30</td><td>20/1/31</td><td>2</td></tr>\n",
              "\t<tr><th scope=row>6</th><td>6</td><td>20/1/29</td><td>20/1/31</td><td>2</td></tr>\n",
              "</tbody>\n",
              "</table>\n"
            ]
          },
          "metadata": {
            "tags": []
          }
        }
      ]
    },
    {
      "cell_type": "code",
      "metadata": {
        "colab": {
          "base_uri": "https://localhost:8080/",
          "height": 204
        },
        "id": "JCoIOQK7s3TH",
        "outputId": "873b012d-0259-4e48-ba9d-1b3a073251e0"
      },
      "source": [
        "df_ %>% mutate(across(c(\"symptom_day\", \"confirm_day\"), as.Date),\n",
        "          infection_path = if_else(infection_path==1, \"imported\", \"local\")) %>%\n",
        "    rename(id = number, onset = symptom_day, confirmation = confirm_day) -> df\n",
        "df %>% head"
      ],
      "execution_count": 5,
      "outputs": [
        {
          "output_type": "display_data",
          "data": {
            "text/plain": [
              "  id onset    confirmation infection_path\n",
              "1 1  20-01-10 20-01-24     imported      \n",
              "2 2  20-01-26 20-01-30     imported      \n",
              "3 3  20-01-26 20-01-30     local         \n",
              "4 4  20-01-26 20-01-30     imported      \n",
              "5 5  20-01-30 20-01-31     local         \n",
              "6 6  20-01-29 20-01-31     local         "
            ],
            "text/latex": "A data.frame: 6 × 4\n\\begin{tabular}{r|llll}\n  & id & onset & confirmation & infection\\_path\\\\\n  & <int> & <date> & <date> & <chr>\\\\\n\\hline\n\t1 & 1 & 20-01-10 & 20-01-24 & imported\\\\\n\t2 & 2 & 20-01-26 & 20-01-30 & imported\\\\\n\t3 & 3 & 20-01-26 & 20-01-30 & local   \\\\\n\t4 & 4 & 20-01-26 & 20-01-30 & imported\\\\\n\t5 & 5 & 20-01-30 & 20-01-31 & local   \\\\\n\t6 & 6 & 20-01-29 & 20-01-31 & local   \\\\\n\\end{tabular}\n",
            "text/markdown": "\nA data.frame: 6 × 4\n\n| <!--/--> | id &lt;int&gt; | onset &lt;date&gt; | confirmation &lt;date&gt; | infection_path &lt;chr&gt; |\n|---|---|---|---|---|\n| 1 | 1 | 20-01-10 | 20-01-24 | imported |\n| 2 | 2 | 20-01-26 | 20-01-30 | imported |\n| 3 | 3 | 20-01-26 | 20-01-30 | local    |\n| 4 | 4 | 20-01-26 | 20-01-30 | imported |\n| 5 | 5 | 20-01-30 | 20-01-31 | local    |\n| 6 | 6 | 20-01-29 | 20-01-31 | local    |\n\n",
            "text/html": [
              "<table>\n",
              "<caption>A data.frame: 6 × 4</caption>\n",
              "<thead>\n",
              "\t<tr><th></th><th scope=col>id</th><th scope=col>onset</th><th scope=col>confirmation</th><th scope=col>infection_path</th></tr>\n",
              "\t<tr><th></th><th scope=col>&lt;int&gt;</th><th scope=col>&lt;date&gt;</th><th scope=col>&lt;date&gt;</th><th scope=col>&lt;chr&gt;</th></tr>\n",
              "</thead>\n",
              "<tbody>\n",
              "\t<tr><th scope=row>1</th><td>1</td><td>20-01-10</td><td>20-01-24</td><td>imported</td></tr>\n",
              "\t<tr><th scope=row>2</th><td>2</td><td>20-01-26</td><td>20-01-30</td><td>imported</td></tr>\n",
              "\t<tr><th scope=row>3</th><td>3</td><td>20-01-26</td><td>20-01-30</td><td>local   </td></tr>\n",
              "\t<tr><th scope=row>4</th><td>4</td><td>20-01-26</td><td>20-01-30</td><td>imported</td></tr>\n",
              "\t<tr><th scope=row>5</th><td>5</td><td>20-01-30</td><td>20-01-31</td><td>local   </td></tr>\n",
              "\t<tr><th scope=row>6</th><td>6</td><td>20-01-29</td><td>20-01-31</td><td>local   </td></tr>\n",
              "</tbody>\n",
              "</table>\n"
            ]
          },
          "metadata": {
            "tags": []
          }
        }
      ]
    },
    {
      "cell_type": "code",
      "metadata": {
        "colab": {
          "base_uri": "https://localhost:8080/",
          "height": 411
        },
        "id": "zEVV-48uT1Tg",
        "outputId": "817c9b54-57d2-40ce-a7c6-01f0729fd7ad"
      },
      "source": [
        "# plotting\r\n",
        "options(repr.plot.width=12, repr.plot.height=6)\r\n",
        "df %>% mutate(infection_path = factor(infection_path, levels=c(\"local\", \"imported\"))) %>%\r\n",
        "  ggplot(aes(onset)) + \r\n",
        "  geom_bar(aes(fill=infection_path), color=\"grey\", size=.1) + \r\n",
        "  scale_fill_manual(values=c(\"#fdae61\", \"#4d4d4d\")) +\r\n",
        "  theme_bw() + \r\n",
        "  labs(x = \"Date of illness onset\", y=\"New cases\", title=\"Seoul\") + \r\n",
        "  scale_x_date(date_labels=\"%m/%d\",date_breaks  = \"14 days\", expand = c(0, 0)) "
      ],
      "execution_count": 6,
      "outputs": [
        {
          "output_type": "stream",
          "text": [
            "Warning message:\n",
            "“Removed 453 rows containing non-finite values (stat_count).”\n"
          ],
          "name": "stderr"
        },
        {
          "output_type": "display_data",
          "data": {
            "image/png": "[encoded data removed]",
            "text/plain": [
              "plot without title"
            ]
          },
          "metadata": {
            "tags": [],
            "image/png": {
              "width": 720,
              "height": 360
            }
          }
        }
      ]
    },
    {
      "cell_type": "code",
      "metadata": {
        "colab": {
          "base_uri": "https://localhost:8080/"
        },
        "id": "u9KtI_2NUzF6",
        "outputId": "61e97254-7157-4815-f5ce-d5e58cb499ed"
      },
      "source": [
        "df %>% filter(!is.na(onset)) -> df.rm\n",
        "\n",
        "df.rm %>% group_by(onset) %>% summarize(ntot = n()) %>% filter(!is.na(onset)) -> df.tot\n",
        "df.rm %>% filter(infection_path == \"local\") %>% group_by(onset) %>% summarize(nloc = n()) %>% filter(!is.na(onset)) -> df.loc\n",
        "\n",
        "Df <- data.frame(onset = as.Date(range(df.rm$onset)[1]: range(df.rm$onset)[2]))\n",
        "Df %>% left_join(df.tot) %>% left_join(df.loc) %>% mutate(across(c(ntot, nloc), ~replace_na(., 0))) %>% mutate(nimp = ntot - nloc) -> Df"
      ],
      "execution_count": 97,
      "outputs": [
        {
          "output_type": "stream",
          "text": [
            "Joining, by = \"onset\"\n",
            "\n",
            "Joining, by = \"onset\"\n",
            "\n"
          ],
          "name": "stderr"
        }
      ]
    },
    {
      "cell_type": "code",
      "metadata": {
        "colab": {
          "base_uri": "https://localhost:8080/"
        },
        "id": "DZhkH-B8WJDX",
        "outputId": "a0e7dc48-1d02-471b-941d-c4a7b36739a3"
      },
      "source": [
        "# Stan program\n",
        "stan_code = \"functions {\n",
        "    /* calculating the convolutions */\n",
        "    // X: first function, Yrev: reversed version of the second function\n",
        "    // K: length of X and Yrev\n",
        "    // the result is the vector of length K-1, because the first element equal zero is omitted\n",
        "    vector convolution(vector X, vector Yrev, int K) {\n",
        "        vector[K-1] res;\n",
        "        res[1] = X[1]*Yrev[K];\n",
        "        for (k in 2:K-1) \n",
        "            res[k] = dot_product(head(X, k), tail(Yrev, k)); // by definition of the convolution\n",
        "\n",
        "        return res;        \n",
        "    }\n",
        "}\n",
        "\n",
        "data {\n",
        " int<lower = 1> K; // number of days\n",
        " int<lower = 0> totcases[K]; // total cases per day\n",
        " int<lower = 0> loccases[K]; // local cases per day\n",
        "\n",
        " // Serial interval\n",
        " real param1_SI;\n",
        " real param2_SI;\n",
        "}\n",
        "\n",
        "transformed data {\n",
        "  vector[K-1] conv;\n",
        "\n",
        "  {\n",
        "    vector[K] gt;\n",
        "    vector[K] gt_rev; \n",
        "\n",
        "    // calculating the discrete version of the weibull distribution\n",
        "    vector[K] gt_cdf;\n",
        "    for (i in 1:K) \n",
        "      gt_cdf[i] = exp(weibull_lcdf(i | param1_SI, param2_SI));\n",
        "    gt = append_row(gt_cdf[1], gt_cdf[2:K] - gt_cdf[1:(K-1)]);\n",
        "\n",
        "    // reverting\n",
        "    for (i in 1:K)\n",
        "      gt_rev[i] = gt[K + 1 - i];\n",
        "\n",
        "    conv = convolution(to_vector(totcases), gt_rev, K);\n",
        "  }\n",
        "}\n",
        "\n",
        "parameters {\n",
        "  // the vector of instantaneous reproduction numbers \n",
        "  vector<lower = 0>[K-1] Rt;\n",
        "}\n",
        "\n",
        "model {\n",
        "  // prior distribution\n",
        "  // if we take flat (non-informative prior), then we would obtain exactly MLE\n",
        "  Rt ~ normal(5, 5);\n",
        "\n",
        "  target += poisson_lpmf(tail(loccases, K-1) | Rt .* conv + 1e-8);\n",
        "  // it is the same as to write: \n",
        "  //    tail(cases, K-1) ~ poisson(Rt .* conv + 1e-8)\n",
        "  // which I showed during the class\n",
        "  // it is up to you to choose\n",
        "  // '_pmf' stands for 'probability mass function' b/c Poisson is discrete distribution\n",
        "}\"\n",
        "stan_file = write_stan_file(stan_code)\n",
        "\n",
        "# data file\n",
        "## Serial interval is from Nishiura et al 2020 IJID\n",
        "## https://doi.org/10.1016/j.ijid.2020.02.060\n",
        "data_list = list(K = nrow(Df), totcases = Df$ntot, loccases = Df$nloc, param1_SI = 2.305, param2_SI = 5.452)\n",
        "data_file = tempfile(fileext = \".json\")\n",
        "write_stan_json(data_list, data_file)\n",
        "\n",
        "# Compile example model\n",
        "mod = cmdstan_model(stan_file)\n",
        "\n",
        "# Condition on data\n",
        "## seed number is used for possible reproducibility\n",
        "fit = mod$sample(data = data_file, iter_sampling=1000, iter_warmup=500, chains=3, seed=123) "
      ],
      "execution_count": 99,
      "outputs": [
        {
          "output_type": "stream",
          "text": [
            "Compiling Stan program...\n",
            "\n"
          ],
          "name": "stderr"
        },
        {
          "output_type": "stream",
          "text": [
            "Running MCMC with 3 sequential chains...\n",
            "\n",
            "Chain 1 Iteration:    1 / 1500 [  0%]  (Warmup) \n",
            "Chain 1 Iteration:  100 / 1500 [  6%]  (Warmup) \n",
            "Chain 1 Iteration:  200 / 1500 [ 13%]  (Warmup) \n",
            "Chain 1 Iteration:  300 / 1500 [ 20%]  (Warmup) \n",
            "Chain 1 Iteration:  400 / 1500 [ 26%]  (Warmup) \n",
            "Chain 1 Iteration:  500 / 1500 [ 33%]  (Warmup) \n",
            "Chain 1 Iteration:  501 / 1500 [ 33%]  (Sampling) \n",
            "Chain 1 Iteration:  600 / 1500 [ 40%]  (Sampling) \n",
            "Chain 1 Iteration:  700 / 1500 [ 46%]  (Sampling) \n",
            "Chain 1 Iteration:  800 / 1500 [ 53%]  (Sampling) \n",
            "Chain 1 Iteration:  900 / 1500 [ 60%]  (Sampling) \n",
            "Chain 1 Iteration: 1000 / 1500 [ 66%]  (Sampling) \n",
            "Chain 1 Iteration: 1100 / 1500 [ 73%]  (Sampling) \n",
            "Chain 1 Iteration: 1200 / 1500 [ 80%]  (Sampling) \n",
            "Chain 1 Iteration: 1300 / 1500 [ 86%]  (Sampling) \n",
            "Chain 1 Iteration: 1400 / 1500 [ 93%]  (Sampling) \n",
            "Chain 1 Iteration: 1500 / 1500 [100%]  (Sampling) \n",
            "Chain 1 finished in 1.2 seconds.\n",
            "Chain 2 Iteration:    1 / 1500 [  0%]  (Warmup) \n",
            "Chain 2 Iteration:  100 / 1500 [  6%]  (Warmup) \n",
            "Chain 2 Iteration:  200 / 1500 [ 13%]  (Warmup) \n",
            "Chain 2 Iteration:  300 / 1500 [ 20%]  (Warmup) \n",
            "Chain 2 Iteration:  400 / 1500 [ 26%]  (Warmup) \n",
            "Chain 2 Iteration:  500 / 1500 [ 33%]  (Warmup) \n",
            "Chain 2 Iteration:  501 / 1500 [ 33%]  (Sampling) \n",
            "Chain 2 Iteration:  600 / 1500 [ 40%]  (Sampling) \n",
            "Chain 2 Iteration:  700 / 1500 [ 46%]  (Sampling) \n",
            "Chain 2 Iteration:  800 / 1500 [ 53%]  (Sampling) \n",
            "Chain 2 Iteration:  900 / 1500 [ 60%]  (Sampling) \n",
            "Chain 2 Iteration: 1000 / 1500 [ 66%]  (Sampling) \n",
            "Chain 2 Iteration: 1100 / 1500 [ 73%]  (Sampling) \n",
            "Chain 2 Iteration: 1200 / 1500 [ 80%]  (Sampling) \n",
            "Chain 2 Iteration: 1300 / 1500 [ 86%]  (Sampling) \n",
            "Chain 2 Iteration: 1400 / 1500 [ 93%]  (Sampling) \n",
            "Chain 2 Iteration: 1500 / 1500 [100%]  (Sampling) \n",
            "Chain 2 finished in 1.4 seconds.\n",
            "Chain 3 Iteration:    1 / 1500 [  0%]  (Warmup) \n",
            "Chain 3 Iteration:  100 / 1500 [  6%]  (Warmup) \n",
            "Chain 3 Iteration:  200 / 1500 [ 13%]  (Warmup) \n",
            "Chain 3 Iteration:  300 / 1500 [ 20%]  (Warmup) \n",
            "Chain 3 Iteration:  400 / 1500 [ 26%]  (Warmup) \n",
            "Chain 3 Iteration:  500 / 1500 [ 33%]  (Warmup) \n",
            "Chain 3 Iteration:  501 / 1500 [ 33%]  (Sampling) \n",
            "Chain 3 Iteration:  600 / 1500 [ 40%]  (Sampling) \n",
            "Chain 3 Iteration:  700 / 1500 [ 46%]  (Sampling) \n",
            "Chain 3 Iteration:  800 / 1500 [ 53%]  (Sampling) \n",
            "Chain 3 Iteration:  900 / 1500 [ 60%]  (Sampling) \n",
            "Chain 3 Iteration: 1000 / 1500 [ 66%]  (Sampling) \n",
            "Chain 3 Iteration: 1100 / 1500 [ 73%]  (Sampling) \n",
            "Chain 3 Iteration: 1200 / 1500 [ 80%]  (Sampling) \n",
            "Chain 3 Iteration: 1300 / 1500 [ 86%]  (Sampling) \n",
            "Chain 3 Iteration: 1400 / 1500 [ 93%]  (Sampling) \n",
            "Chain 3 Iteration: 1500 / 1500 [100%]  (Sampling) \n",
            "Chain 3 finished in 1.7 seconds.\n",
            "\n",
            "All 3 chains finished successfully.\n",
            "Mean chain execution time: 1.5 seconds.\n",
            "Total execution time: 4.6 seconds.\n"
          ],
          "name": "stdout"
        }
      ]
    },
    {
      "cell_type": "code",
      "metadata": {
        "colab": {
          "base_uri": "https://localhost:8080/",
          "height": 204
        },
        "id": "D_DKfyJ7bP0g",
        "outputId": "0af4a794-30d2-4668-8f7e-52647e8ac180"
      },
      "source": [
        "output_ = fit$summary(c(\"Rt\"), ~quantile(.x, probs = c(0.5, 0.025, 0.975))) %>% as.data.frame\n",
        "names(output_) = c(\"variable\", \"Rt\", \"Rt_lower\", \"Rt_upper\")\n",
        "output_ %>% head"
      ],
      "execution_count": 100,
      "outputs": [
        {
          "output_type": "display_data",
          "data": {
            "text/plain": [
              "  variable Rt       Rt_lower  Rt_upper\n",
              "1 Rt[1]    5.651535 0.5018524 14.67984\n",
              "2 Rt[2]    4.857620 0.3841624 13.67961\n",
              "3 Rt[3]    4.085130 0.1965985 12.80547\n",
              "4 Rt[4]    3.746110 0.2227535 12.00866\n",
              "5 Rt[5]    3.484665 0.1925147 11.89109\n",
              "6 Rt[6]    3.702435 0.1963196 12.01126"
            ],
            "text/latex": "A data.frame: 6 × 4\n\\begin{tabular}{r|llll}\n  & variable & Rt & Rt\\_lower & Rt\\_upper\\\\\n  & <chr> & <dbl> & <dbl> & <dbl>\\\\\n\\hline\n\t1 & Rt{[}1{]} & 5.651535 & 0.5018524 & 14.67984\\\\\n\t2 & Rt{[}2{]} & 4.857620 & 0.3841624 & 13.67961\\\\\n\t3 & Rt{[}3{]} & 4.085130 & 0.1965985 & 12.80547\\\\\n\t4 & Rt{[}4{]} & 3.746110 & 0.2227535 & 12.00866\\\\\n\t5 & Rt{[}5{]} & 3.484665 & 0.1925147 & 11.89109\\\\\n\t6 & Rt{[}6{]} & 3.702435 & 0.1963196 & 12.01126\\\\\n\\end{tabular}\n",
            "text/markdown": "\nA data.frame: 6 × 4\n\n| <!--/--> | variable &lt;chr&gt; | Rt &lt;dbl&gt; | Rt_lower &lt;dbl&gt; | Rt_upper &lt;dbl&gt; |\n|---|---|---|---|---|\n| 1 | Rt[1] | 5.651535 | 0.5018524 | 14.67984 |\n| 2 | Rt[2] | 4.857620 | 0.3841624 | 13.67961 |\n| 3 | Rt[3] | 4.085130 | 0.1965985 | 12.80547 |\n| 4 | Rt[4] | 3.746110 | 0.2227535 | 12.00866 |\n| 5 | Rt[5] | 3.484665 | 0.1925147 | 11.89109 |\n| 6 | Rt[6] | 3.702435 | 0.1963196 | 12.01126 |\n\n",
            "text/html": [
              "<table>\n",
              "<caption>A data.frame: 6 × 4</caption>\n",
              "<thead>\n",
              "\t<tr><th></th><th scope=col>variable</th><th scope=col>Rt</th><th scope=col>Rt_lower</th><th scope=col>Rt_upper</th></tr>\n",
              "\t<tr><th></th><th scope=col>&lt;chr&gt;</th><th scope=col>&lt;dbl&gt;</th><th scope=col>&lt;dbl&gt;</th><th scope=col>&lt;dbl&gt;</th></tr>\n",
              "</thead>\n",
              "<tbody>\n",
              "\t<tr><th scope=row>1</th><td>Rt[1]</td><td>5.651535</td><td>0.5018524</td><td>14.67984</td></tr>\n",
              "\t<tr><th scope=row>2</th><td>Rt[2]</td><td>4.857620</td><td>0.3841624</td><td>13.67961</td></tr>\n",
              "\t<tr><th scope=row>3</th><td>Rt[3]</td><td>4.085130</td><td>0.1965985</td><td>12.80547</td></tr>\n",
              "\t<tr><th scope=row>4</th><td>Rt[4]</td><td>3.746110</td><td>0.2227535</td><td>12.00866</td></tr>\n",
              "\t<tr><th scope=row>5</th><td>Rt[5]</td><td>3.484665</td><td>0.1925147</td><td>11.89109</td></tr>\n",
              "\t<tr><th scope=row>6</th><td>Rt[6]</td><td>3.702435</td><td>0.1963196</td><td>12.01126</td></tr>\n",
              "</tbody>\n",
              "</table>\n"
            ]
          },
          "metadata": {
            "tags": []
          }
        }
      ]
    },
    {
      "cell_type": "code",
      "metadata": {
        "colab": {
          "base_uri": "https://localhost:8080/",
          "height": 204
        },
        "id": "h8psfsJbbT_x",
        "outputId": "6b707125-f31d-42ae-9373-0f7f671b00b2"
      },
      "source": [
        "# Here is some technical thing: to extract the number inside the brackets\n",
        "## for example: Rt[1] will be separated on variable=\"Rt\" and index=1\n",
        "out = stringr::str_match_all(output_$variable, \"[\\\\d+(.*)]\")\n",
        "output_$index = sapply(out, function(x) as.numeric(paste(x[,1],collapse=\"\")))\n",
        "output_ %>% \n",
        "  mutate(variable = stringr::str_extract(variable, \"^[^\\\\[]+\"), onset = as.Date(\"20-01-10\") + index) %>% \n",
        "  select(variable, onset, everything(), -index, -variable) -> output\n",
        "output %>% head"
      ],
      "execution_count": 101,
      "outputs": [
        {
          "output_type": "display_data",
          "data": {
            "text/plain": [
              "  onset    Rt       Rt_lower  Rt_upper\n",
              "1 20-01-11 5.651535 0.5018524 14.67984\n",
              "2 20-01-12 4.857620 0.3841624 13.67961\n",
              "3 20-01-13 4.085130 0.1965985 12.80547\n",
              "4 20-01-14 3.746110 0.2227535 12.00866\n",
              "5 20-01-15 3.484665 0.1925147 11.89109\n",
              "6 20-01-16 3.702435 0.1963196 12.01126"
            ],
            "text/latex": "A data.frame: 6 × 4\n\\begin{tabular}{r|llll}\n  & onset & Rt & Rt\\_lower & Rt\\_upper\\\\\n  & <date> & <dbl> & <dbl> & <dbl>\\\\\n\\hline\n\t1 & 20-01-11 & 5.651535 & 0.5018524 & 14.67984\\\\\n\t2 & 20-01-12 & 4.857620 & 0.3841624 & 13.67961\\\\\n\t3 & 20-01-13 & 4.085130 & 0.1965985 & 12.80547\\\\\n\t4 & 20-01-14 & 3.746110 & 0.2227535 & 12.00866\\\\\n\t5 & 20-01-15 & 3.484665 & 0.1925147 & 11.89109\\\\\n\t6 & 20-01-16 & 3.702435 & 0.1963196 & 12.01126\\\\\n\\end{tabular}\n",
            "text/markdown": "\nA data.frame: 6 × 4\n\n| <!--/--> | onset &lt;date&gt; | Rt &lt;dbl&gt; | Rt_lower &lt;dbl&gt; | Rt_upper &lt;dbl&gt; |\n|---|---|---|---|---|\n| 1 | 20-01-11 | 5.651535 | 0.5018524 | 14.67984 |\n| 2 | 20-01-12 | 4.857620 | 0.3841624 | 13.67961 |\n| 3 | 20-01-13 | 4.085130 | 0.1965985 | 12.80547 |\n| 4 | 20-01-14 | 3.746110 | 0.2227535 | 12.00866 |\n| 5 | 20-01-15 | 3.484665 | 0.1925147 | 11.89109 |\n| 6 | 20-01-16 | 3.702435 | 0.1963196 | 12.01126 |\n\n",
            "text/html": [
              "<table>\n",
              "<caption>A data.frame: 6 × 4</caption>\n",
              "<thead>\n",
              "\t<tr><th></th><th scope=col>onset</th><th scope=col>Rt</th><th scope=col>Rt_lower</th><th scope=col>Rt_upper</th></tr>\n",
              "\t<tr><th></th><th scope=col>&lt;date&gt;</th><th scope=col>&lt;dbl&gt;</th><th scope=col>&lt;dbl&gt;</th><th scope=col>&lt;dbl&gt;</th></tr>\n",
              "</thead>\n",
              "<tbody>\n",
              "\t<tr><th scope=row>1</th><td>20-01-11</td><td>5.651535</td><td>0.5018524</td><td>14.67984</td></tr>\n",
              "\t<tr><th scope=row>2</th><td>20-01-12</td><td>4.857620</td><td>0.3841624</td><td>13.67961</td></tr>\n",
              "\t<tr><th scope=row>3</th><td>20-01-13</td><td>4.085130</td><td>0.1965985</td><td>12.80547</td></tr>\n",
              "\t<tr><th scope=row>4</th><td>20-01-14</td><td>3.746110</td><td>0.2227535</td><td>12.00866</td></tr>\n",
              "\t<tr><th scope=row>5</th><td>20-01-15</td><td>3.484665</td><td>0.1925147</td><td>11.89109</td></tr>\n",
              "\t<tr><th scope=row>6</th><td>20-01-16</td><td>3.702435</td><td>0.1963196</td><td>12.01126</td></tr>\n",
              "</tbody>\n",
              "</table>\n"
            ]
          },
          "metadata": {
            "tags": []
          }
        }
      ]
    },
    {
      "cell_type": "code",
      "metadata": {
        "colab": {
          "base_uri": "https://localhost:8080/",
          "height": 204
        },
        "id": "IrC_XLQvbWKN",
        "outputId": "5b1f2655-9fb7-4f39-9fac-dfbe13bc7bd5"
      },
      "source": [
        "output %<>% right_join(Df, by='onset')\n",
        "output %>% head"
      ],
      "execution_count": 102,
      "outputs": [
        {
          "output_type": "display_data",
          "data": {
            "text/plain": [
              "  onset    Rt       Rt_lower  Rt_upper ntot nloc nimp\n",
              "1 20-01-11 5.651535 0.5018524 14.67984 0    0    0   \n",
              "2 20-01-12 4.857620 0.3841624 13.67961 0    0    0   \n",
              "3 20-01-13 4.085130 0.1965985 12.80547 0    0    0   \n",
              "4 20-01-14 3.746110 0.2227535 12.00866 0    0    0   \n",
              "5 20-01-15 3.484665 0.1925147 11.89109 0    0    0   \n",
              "6 20-01-16 3.702435 0.1963196 12.01126 0    0    0   "
            ],
            "text/latex": "A data.frame: 6 × 7\n\\begin{tabular}{r|lllllll}\n  & onset & Rt & Rt\\_lower & Rt\\_upper & ntot & nloc & nimp\\\\\n  & <date> & <dbl> & <dbl> & <dbl> & <dbl> & <dbl> & <dbl>\\\\\n\\hline\n\t1 & 20-01-11 & 5.651535 & 0.5018524 & 14.67984 & 0 & 0 & 0\\\\\n\t2 & 20-01-12 & 4.857620 & 0.3841624 & 13.67961 & 0 & 0 & 0\\\\\n\t3 & 20-01-13 & 4.085130 & 0.1965985 & 12.80547 & 0 & 0 & 0\\\\\n\t4 & 20-01-14 & 3.746110 & 0.2227535 & 12.00866 & 0 & 0 & 0\\\\\n\t5 & 20-01-15 & 3.484665 & 0.1925147 & 11.89109 & 0 & 0 & 0\\\\\n\t6 & 20-01-16 & 3.702435 & 0.1963196 & 12.01126 & 0 & 0 & 0\\\\\n\\end{tabular}\n",
            "text/markdown": "\nA data.frame: 6 × 7\n\n| <!--/--> | onset &lt;date&gt; | Rt &lt;dbl&gt; | Rt_lower &lt;dbl&gt; | Rt_upper &lt;dbl&gt; | ntot &lt;dbl&gt; | nloc &lt;dbl&gt; | nimp &lt;dbl&gt; |\n|---|---|---|---|---|---|---|---|\n| 1 | 20-01-11 | 5.651535 | 0.5018524 | 14.67984 | 0 | 0 | 0 |\n| 2 | 20-01-12 | 4.857620 | 0.3841624 | 13.67961 | 0 | 0 | 0 |\n| 3 | 20-01-13 | 4.085130 | 0.1965985 | 12.80547 | 0 | 0 | 0 |\n| 4 | 20-01-14 | 3.746110 | 0.2227535 | 12.00866 | 0 | 0 | 0 |\n| 5 | 20-01-15 | 3.484665 | 0.1925147 | 11.89109 | 0 | 0 | 0 |\n| 6 | 20-01-16 | 3.702435 | 0.1963196 | 12.01126 | 0 | 0 | 0 |\n\n",
            "text/html": [
              "<table>\n",
              "<caption>A data.frame: 6 × 7</caption>\n",
              "<thead>\n",
              "\t<tr><th></th><th scope=col>onset</th><th scope=col>Rt</th><th scope=col>Rt_lower</th><th scope=col>Rt_upper</th><th scope=col>ntot</th><th scope=col>nloc</th><th scope=col>nimp</th></tr>\n",
              "\t<tr><th></th><th scope=col>&lt;date&gt;</th><th scope=col>&lt;dbl&gt;</th><th scope=col>&lt;dbl&gt;</th><th scope=col>&lt;dbl&gt;</th><th scope=col>&lt;dbl&gt;</th><th scope=col>&lt;dbl&gt;</th><th scope=col>&lt;dbl&gt;</th></tr>\n",
              "</thead>\n",
              "<tbody>\n",
              "\t<tr><th scope=row>1</th><td>20-01-11</td><td>5.651535</td><td>0.5018524</td><td>14.67984</td><td>0</td><td>0</td><td>0</td></tr>\n",
              "\t<tr><th scope=row>2</th><td>20-01-12</td><td>4.857620</td><td>0.3841624</td><td>13.67961</td><td>0</td><td>0</td><td>0</td></tr>\n",
              "\t<tr><th scope=row>3</th><td>20-01-13</td><td>4.085130</td><td>0.1965985</td><td>12.80547</td><td>0</td><td>0</td><td>0</td></tr>\n",
              "\t<tr><th scope=row>4</th><td>20-01-14</td><td>3.746110</td><td>0.2227535</td><td>12.00866</td><td>0</td><td>0</td><td>0</td></tr>\n",
              "\t<tr><th scope=row>5</th><td>20-01-15</td><td>3.484665</td><td>0.1925147</td><td>11.89109</td><td>0</td><td>0</td><td>0</td></tr>\n",
              "\t<tr><th scope=row>6</th><td>20-01-16</td><td>3.702435</td><td>0.1963196</td><td>12.01126</td><td>0</td><td>0</td><td>0</td></tr>\n",
              "</tbody>\n",
              "</table>\n"
            ]
          },
          "metadata": {
            "tags": []
          }
        }
      ]
    },
    {
      "cell_type": "code",
      "metadata": {
        "colab": {
          "base_uri": "https://localhost:8080/",
          "height": 411
        },
        "id": "ivcU_y7lcb5W",
        "outputId": "dc7ab4ff-8b13-4e87-a612-e2416bb1c268"
      },
      "source": [
        "scaling_parameter = 1\n",
        "\n",
        "options(repr.plot.width=12, repr.plot.height=6)\n",
        "output2 <- output\n",
        "output2$nimp <- output$nloc\n",
        "output$CaseSource <- \"local\"\n",
        "output2$CaseSource <- \"imported\"\n",
        "output3 <- rbind(output, output2)\n",
        "output3 %>% ggplot(aes(onset)) + \n",
        "  geom_bar(aes(y=nimp, x=onset, fill=CaseSource), stat=\"identity\", size=1.1) + \n",
        "  scale_fill_manual(values=c(\"#fdae61\", \"#4d4d4d\")) +\n",
        "  geom_line(aes(y=Rt*scaling_parameter), color=\"red\", size=1.1) +\n",
        "  geom_ribbon(aes(ymax=Rt_upper, ymin=Rt_lower), fill=\"#1380A1\", alpha = 0.25) +\n",
        "  geom_hline(yintercept=1, linetype=\"dashed\", color = \"black\", size = 0.7) + \n",
        "  labs(x=\"\\nOnset date\", y=\"Number of cases / Effective Reproductive Number\\n\") +\n",
        "  theme_bw()"
      ],
      "execution_count": 107,
      "outputs": [
        {
          "output_type": "stream",
          "text": [
            "Warning message:\n",
            "“Removed 2 row(s) containing missing values (geom_path).”\n"
          ],
          "name": "stderr"
        },
        {
          "output_type": "display_data",
          "data": {
            "image/png": "[encoded data removed]",
            "text/plain": [
              "plot without title"
            ]
          },
          "metadata": {
            "tags": [],
            "image/png": {
              "width": 720,
              "height": 360
            }
          }
        }
      ]
    }
  ]
}